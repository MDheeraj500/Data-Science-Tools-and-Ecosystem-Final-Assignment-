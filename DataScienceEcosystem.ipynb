{
 "cells": [
  {
   "cell_type": "markdown",
   "id": "a63d7f78-bff2-4d37-9955-0b66e4e5c61b",
   "metadata": {
    "tags": []
   },
   "source": [
    "# Data Science Tools and Ecosystem"
   ]
  },
  {
   "cell_type": "markdown",
   "id": "d8a6bc54-382f-44c0-9372-0bd52f6b116b",
   "metadata": {},
   "source": [
    "In this notebook, Data Science Tools and Ecosystem are summarized."
   ]
  },
  {
   "cell_type": "markdown",
   "id": "62f22b25-ab2d-417b-8d36-540825f4b983",
   "metadata": {},
   "source": [
    "**Objectives:**\n",
    "- List popular languages used in by Data Scientists\n",
    "- List a few commonly used libraries by Data Scientists\n",
    "- Tabulate popular Data Science Tools\n",
    "- Display Basic Arithmetic Operations in Python"
   ]
  },
  {
   "cell_type": "markdown",
   "id": "028fe1af-6524-4d0e-ac99-6d624436a017",
   "metadata": {},
   "source": [
    "Some of the popular languages that Data Scientists use are:\n",
    "1. Python\n",
    "2. R\n",
    "3. SQL\n",
    "4. Scala"
   ]
  },
  {
   "cell_type": "markdown",
   "id": "78863ace-8689-42c8-ad68-4e2395f67a1c",
   "metadata": {},
   "source": [
    "Some of the commonly used libraries used by Data Scientists include:\n",
    "1. Pandas in Python\n",
    "2. Matplotlib in Python\n",
    "3. The Scikit-learn in Python\n",
    "4. Vegas is in Scala\n",
    "5. BigDL for Deep Learning in Scala\n",
    "6.  ggplot2 in R"
   ]
  },
  {
   "cell_type": "markdown",
   "id": "89bc1a8c-9a38-4b23-b333-ed8f8f602c25",
   "metadata": {},
   "source": [
    "| Data Science Tools |\n",
    "| ------------------ |\n",
    "|  Apache Spark |\n",
    "| Watson Studio |\n",
    "| RStudio |"
   ]
  },
  {
   "cell_type": "markdown",
   "id": "3c04623f-d5f5-4858-a98f-06d3483c167a",
   "metadata": {},
   "source": [
    "### Below are a few examples of evaluating arithmetic expressions in Python"
   ]
  },
  {
   "cell_type": "code",
   "execution_count": 1,
   "id": "808d2481-ec3b-4fa2-8934-89fd38003f59",
   "metadata": {},
   "outputs": [
    {
     "data": {
      "text/plain": [
       "17"
      ]
     },
     "execution_count": 1,
     "metadata": {},
     "output_type": "execute_result"
    }
   ],
   "source": [
    "# This a simple arithmetic expression to mutiply then add integers\n",
    "(3*4)+5"
   ]
  },
  {
   "cell_type": "code",
   "execution_count": 3,
   "id": "9aa47d7d-050f-4912-87f3-f0f3663ca092",
   "metadata": {},
   "outputs": [
    {
     "data": {
      "text/plain": [
       "3.3333333333333335"
      ]
     },
     "execution_count": 3,
     "metadata": {},
     "output_type": "execute_result"
    }
   ],
   "source": [
    "#  This will convert 200 minutes to hours by diving by 60\n",
    "minutes = 200\n",
    "OneHour = 60\n",
    "minutes/OneHour"
   ]
  },
  {
   "cell_type": "markdown",
   "id": "021c4ef8-18e2-4d82-9356-f3199e6f4f5b",
   "metadata": {},
   "source": [
    "## Author\n",
    "Machiraju Dheeraj Marthand"
   ]
  },
  {
   "cell_type": "code",
   "execution_count": null,
   "id": "8842d525-a4ee-4eb2-98ea-f96f1b36d3b0",
   "metadata": {},
   "outputs": [],
   "source": []
  }
 ],
 "metadata": {
  "kernelspec": {
   "display_name": "Python",
   "language": "python",
   "name": "conda-env-python-py"
  },
  "language_info": {
   "codemirror_mode": {
    "name": "ipython",
    "version": 3
   },
   "file_extension": ".py",
   "mimetype": "text/x-python",
   "name": "python",
   "nbconvert_exporter": "python",
   "pygments_lexer": "ipython3",
   "version": "3.7.12"
  }
 },
 "nbformat": 4,
 "nbformat_minor": 5
}
